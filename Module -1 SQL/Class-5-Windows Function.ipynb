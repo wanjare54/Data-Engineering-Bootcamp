{
 "cells": [
  {
   "cell_type": "markdown",
   "metadata": {
    "application/vnd.databricks.v1+cell": {
     "cellMetadata": {},
     "inputWidgets": {},
     "nuid": "c1aca9c5-4c4e-4c3a-bc27-f722f524e61c",
     "showTitle": false,
     "tableResultSettingsMap": {},
     "title": ""
    }
   },
   "source": [
    "Class 5 - Windows Funciton of SQL"
   ]
  },
  {
   "cell_type": "code",
   "execution_count": 0,
   "metadata": {
    "application/vnd.databricks.v1+cell": {
     "cellMetadata": {
      "byteLimit": 2048000,
      "rowLimit": 10000
     },
     "inputWidgets": {},
     "nuid": "39f6d1eb-ff8c-4a71-87cd-3fa11778452a",
     "showTitle": false,
     "tableResultSettingsMap": {},
     "title": ""
    }
   },
   "outputs": [],
   "source": [
    "--Gives each row a unique number based on the order_date.\n",
    "SELECT \n",
    "  order_id, \n",
    "  order_date,\n",
    "  ROW_NUMBER() OVER (ORDER BY order_date) AS row_num\n",
    "FROM orders;\n"
   ]
  },
  {
   "cell_type": "code",
   "execution_count": 0,
   "metadata": {
    "application/vnd.databricks.v1+cell": {
     "cellMetadata": {
      "byteLimit": 2048000,
      "rowLimit": 10000
     },
     "inputWidgets": {},
     "nuid": "1e3cbb45-edfb-45ae-bc54-5c8d940107aa",
     "showTitle": false,
     "tableResultSettingsMap": {},
     "title": ""
    }
   },
   "outputs": [],
   "source": [
    "-- Real-Life Use Case: Show first product bought by each customer\n",
    "\n",
    "SELECT \n",
    "c.first_name,od.product_name,od.order_id,\n",
    "ROW_NUMBER() OVER(PARTITION BY c.customer_id ORDER BY o.order_date) AS PURCHASE_SEQUENCE\n",
    " FROM customers c\n",
    "JOIN orders o ON c.customer_id = o.customer_id\n",
    "JOIN order_details od ON o.order_id = od.order_id\n",
    "\n",
    "---The First order is that where purchase_sequence=1\n",
    "\n"
   ]
  },
  {
   "cell_type": "code",
   "execution_count": 0,
   "metadata": {
    "application/vnd.databricks.v1+cell": {
     "cellMetadata": {
      "byteLimit": 2048000,
      "rowLimit": 10000
     },
     "inputWidgets": {},
     "nuid": "18b5802d-cba2-49a9-a387-7e4e3f10099b",
     "showTitle": false,
     "tableResultSettingsMap": {},
     "title": ""
    }
   },
   "outputs": [],
   "source": [
    "--RANK()\n",
    "--Ranks rows by quantity; ties get same rank, but gaps are left in the sequence.\n",
    "SELECT product_name,quantity,\n",
    "RANK() OVER(ORDER BY quantity DESC) AS RANKING\n",
    " FROM order_details"
   ]
  },
  {
   "cell_type": "code",
   "execution_count": 0,
   "metadata": {
    "application/vnd.databricks.v1+cell": {
     "cellMetadata": {
      "byteLimit": 2048000,
      "rowLimit": 10000
     },
     "inputWidgets": {},
     "nuid": "7509609b-7c6b-4412-8570-d2f7f9188fc5",
     "showTitle": false,
     "tableResultSettingsMap": {},
     "title": ""
    }
   },
   "outputs": [],
   "source": [
    "-- Real-Life Use Case: Assign bonus based on best-selling products in each order\n",
    "SELECT \n",
    "order_id,\n",
    "product_name,\n",
    "quantity,\n",
    "RANK() OVER(PARTITION BY order_id ORDER BY quantity DESC) AS RANKING\n",
    "\n",
    " FROM order_details"
   ]
  },
  {
   "cell_type": "code",
   "execution_count": 0,
   "metadata": {
    "application/vnd.databricks.v1+cell": {
     "cellMetadata": {
      "byteLimit": 2048000,
      "rowLimit": 10000
     },
     "inputWidgets": {},
     "nuid": "8f7b4a94-2d5f-4657-b19b-f9cc2853b07e",
     "showTitle": false,
     "tableResultSettingsMap": {},
     "title": ""
    }
   },
   "outputs": [],
   "source": [
    "--DENSE_RANK() -->RANK WITHOUT GAPS\n",
    "\n",
    "SELECT \n",
    "  product_name, \n",
    "  quantity,\n",
    "  DENSE_RANK() OVER (ORDER BY quantity DESC) AS DENSE_RANK,\n",
    "  RANK() OVER (ORDER BY quantity DESC) AS RANK\n",
    "FROM order_details;\n"
   ]
  },
  {
   "cell_type": "code",
   "execution_count": 0,
   "metadata": {
    "application/vnd.databricks.v1+cell": {
     "cellMetadata": {
      "byteLimit": 2048000,
      "rowLimit": 10000
     },
     "inputWidgets": {},
     "nuid": "be53e933-9f3e-412f-9cf2-19ae99d63a7a",
     "showTitle": false,
     "tableResultSettingsMap": {},
     "title": ""
    }
   },
   "outputs": [],
   "source": [
    "--  Real-Life Use Case: Label product popularity tiers in clean rank buckets\n",
    "\n",
    "SELECT \n",
    "product_name,\n",
    "SUM(quantity) AS TOTAL_QUANTITY,\n",
    "DENSE_RANK() OVER (ORDER BY SUM(quantity) DESC) AS POPULARITY_RANK\n",
    "FROM order_details\n",
    "GROUP BY 1"
   ]
  },
  {
   "cell_type": "code",
   "execution_count": 0,
   "metadata": {
    "application/vnd.databricks.v1+cell": {
     "cellMetadata": {
      "byteLimit": 2048000,
      "rowLimit": 10000
     },
     "inputWidgets": {},
     "nuid": "3c92c1c5-b14c-44a7-ab7b-de6f8c377747",
     "showTitle": false,
     "tableResultSettingsMap": {},
     "title": ""
    }
   },
   "outputs": [],
   "source": [
    "--LAG() - COMPARE WITH PREVIOUS ROWS\n",
    "\n",
    "SELECT\n",
    "order_id,order_date,\n",
    "LAG(order_date) OVER(ORDER BY order_date) AS PREVIOUS_ORDER_DATE\n",
    " FROM ORDERS"
   ]
  },
  {
   "cell_type": "code",
   "execution_count": 0,
   "metadata": {
    "application/vnd.databricks.v1+cell": {
     "cellMetadata": {
      "byteLimit": 2048000,
      "rowLimit": 10000
     },
     "inputWidgets": {},
     "nuid": "847c747a-9203-4e11-a39c-ede6004f3cf7",
     "showTitle": false,
     "tableResultSettingsMap": {},
     "title": ""
    }
   },
   "outputs": [],
   "source": [
    "-- Real-Life Use Case: Analyze customer's order trends (Did they buy more/less?)\n",
    "SELECT \n",
    "  c.first_name, \n",
    "  o.order_id, \n",
    "  od.quantity,\n",
    "  LAG(od.quantity) OVER (PARTITION BY c.customer_id ORDER BY o.order_date) AS previous_quantity\n",
    "FROM customers c\n",
    "JOIN orders o ON c.customer_id = o.customer_id\n",
    "JOIN order_details od ON o.order_id = od.order_id;"
   ]
  },
  {
   "cell_type": "code",
   "execution_count": 0,
   "metadata": {
    "application/vnd.databricks.v1+cell": {
     "cellMetadata": {
      "byteLimit": 2048000,
      "rowLimit": 10000
     },
     "inputWidgets": {},
     "nuid": "2e3fd12e-8b75-4dcd-b420-7731c2200218",
     "showTitle": false,
     "tableResultSettingsMap": {},
     "title": ""
    }
   },
   "outputs": [],
   "source": [
    "--LEAD() - COMPARE WITH NEXT ROWS\n",
    "\n",
    "SELECT\n",
    "order_id,order_date,\n",
    "LEAD(order_date) OVER(ORDER BY order_date) AS NEXT_ORDER_DATE\n",
    " FROM ORDERS"
   ]
  },
  {
   "cell_type": "code",
   "execution_count": 0,
   "metadata": {
    "application/vnd.databricks.v1+cell": {
     "cellMetadata": {
      "byteLimit": 2048000,
      "rowLimit": 10000
     },
     "inputWidgets": {},
     "nuid": "b06dfdf5-9056-474f-b569-7fd5f53209e9",
     "showTitle": false,
     "tableResultSettingsMap": {},
     "title": ""
    }
   },
   "outputs": [],
   "source": [
    "--Real-Life Use Case: Predict what customers might buy next\n",
    "\n",
    "SELECT \n",
    "  c.first_name, \n",
    "  od.product_name,\n",
    "  LEAD(od.product_name) OVER (PARTITION BY c.customer_id ORDER BY o.order_date) AS possible_next_product\n",
    "FROM customers c\n",
    "JOIN orders o ON c.customer_id = o.customer_id\n",
    "JOIN order_details od ON o.order_id = od.order_id;"
   ]
  },
  {
   "cell_type": "code",
   "execution_count": 0,
   "metadata": {
    "application/vnd.databricks.v1+cell": {
     "cellMetadata": {
      "byteLimit": 2048000,
      "rowLimit": 10000
     },
     "inputWidgets": {},
     "nuid": "c2479a63-a570-4335-8e4b-df6a766d2ed3",
     "showTitle": false,
     "tableResultSettingsMap": {},
     "title": ""
    }
   },
   "outputs": [],
   "source": [
    "--SUM() ---> RUNNING TOTAL OR Cummulative Sum \n",
    "\n",
    "select order_id,product_name,quantity,\n",
    "SUM(quantity) OVER(ORDER BY order_id) AS CUMMULATIVE_SUM\n",
    "from order_details"
   ]
  },
  {
   "cell_type": "code",
   "execution_count": 0,
   "metadata": {
    "application/vnd.databricks.v1+cell": {
     "cellMetadata": {
      "byteLimit": 2048000,
      "rowLimit": 10000
     },
     "inputWidgets": {},
     "nuid": "4aa14595-718a-4806-94fc-d3b1399c5c69",
     "showTitle": false,
     "tableResultSettingsMap": {},
     "title": ""
    }
   },
   "outputs": [],
   "source": [
    "select first_name, department,salary,\n",
    "SUM(salary) OVER(order by emp_id) as RUNNING_TOTAL \n",
    "from employees"
   ]
  }
 ],
 "metadata": {
  "application/vnd.databricks.v1+notebook": {
   "computePreferences": null,
   "dashboards": [],
   "environmentMetadata": {
    "base_environment": "",
    "environment_version": "2"
   },
   "inputWidgetPreferences": null,
   "language": "sql",
   "notebookMetadata": {
    "pythonIndentUnit": 4
   },
   "notebookName": "Class-5-Windows Function",
   "widgets": {}
  },
  "language_info": {
   "name": "sql"
  }
 },
 "nbformat": 4,
 "nbformat_minor": 0
}

---Databrick Notebook
