{
 "cells": [
  {
   "cell_type": "markdown",
   "metadata": {
    "application/vnd.databricks.v1+cell": {
     "cellMetadata": {},
     "inputWidgets": {},
     "nuid": "bf2b5633-3ae7-48bf-9bab-f098ad208157",
     "showTitle": false,
     "tableResultSettingsMap": {},
     "title": ""
    }
   },
   "source": [
    "Class 5 - Windows Funciton of SQL"
   ]
  },
  {
   "cell_type": "code",
   "execution_count": 0,
   "metadata": {
    "application/vnd.databricks.v1+cell": {
     "cellMetadata": {
      "byteLimit": 2048000,
      "rowLimit": 10000
     },
     "inputWidgets": {},
     "nuid": "903ae93b-5eef-4f72-883a-2a58b19ac4da",
     "showTitle": false,
     "tableResultSettingsMap": {},
     "title": ""
    }
   },
   "outputs": [],
   "source": [
    "--Gives each row a unique number based on the order_date.\n",
    "SELECT \n",
    "  order_id, \n",
    "  order_date,\n",
    "  ROW_NUMBER() OVER (ORDER BY order_date) AS row_num\n",
    "FROM orders;"
   ]
  },
  {
   "cell_type": "code",
   "execution_count": 0,
   "metadata": {
    "application/vnd.databricks.v1+cell": {
     "cellMetadata": {
      "byteLimit": 2048000,
      "rowLimit": 10000
     },
     "inputWidgets": {},
     "nuid": "8bd5f356-8a20-404f-aa01-d94d831df7e2",
     "showTitle": false,
     "tableResultSettingsMap": {},
     "title": ""
    }
   },
   "outputs": [],
   "source": [
    "-- Real-Life Use Case: Show first product bought by each customer\n",
    "---The First order is that where purchase_sequence=1\n",
    "\n",
    "SELECT \n",
    "c.first_name,od.product_name,od.order_id,\n",
    "ROW_NUMBER() OVER(PARTITION BY c.customer_id ORDER BY o.order_date) AS PURCHASE_SEQUENCE\n",
    " FROM customers c\n",
    "JOIN orders o ON c.customer_id = o.customer_id\n",
    "JOIN order_details od ON o.order_id = od.order_id\n",
    "\n",
    "\n"
   ]
  },
  {
   "cell_type": "code",
   "execution_count": 0,
   "metadata": {
    "application/vnd.databricks.v1+cell": {
     "cellMetadata": {
      "byteLimit": 2048000,
      "rowLimit": 10000
     },
     "inputWidgets": {},
     "nuid": "ea9be4ff-83c9-44cf-bd0d-223e7a25d89a",
     "showTitle": false,
     "tableResultSettingsMap": {},
     "title": ""
    }
   },
   "outputs": [],
   "source": [
    "\n",
    "--RANK()\n",
    "--Ranks rows by quantity; ties get same rank, but gaps are left in the sequence.\n",
    "SELECT product_name,quantity,\n",
    "RANK() OVER(ORDER BY quantity DESC) AS RANKING\n",
    " FROM order_details"
   ]
  },
  {
   "cell_type": "code",
   "execution_count": 0,
   "metadata": {
    "application/vnd.databricks.v1+cell": {
     "cellMetadata": {
      "byteLimit": 2048000,
      "rowLimit": 10000
     },
     "inputWidgets": {},
     "nuid": "5d979822-f36e-4626-87da-67481964d686",
     "showTitle": false,
     "tableResultSettingsMap": {},
     "title": ""
    }
   },
   "outputs": [],
   "source": [
    "-- Real-Life Use Case: Assign bonus based on best-selling products in each order\n",
    "SELECT \n",
    "order_id,\n",
    "product_name,\n",
    "quantity,\n",
    "RANK() OVER(PARTITION BY order_id ORDER BY quantity DESC) AS RANKING\n",
    "\n",
    " FROM order_details"
   ]
  },
  {
   "cell_type": "code",
   "execution_count": 0,
   "metadata": {
    "application/vnd.databricks.v1+cell": {
     "cellMetadata": {
      "byteLimit": 2048000,
      "rowLimit": 10000
     },
     "inputWidgets": {},
     "nuid": "721a9749-5fff-49b4-a1ec-24ab141cb235",
     "showTitle": false,
     "tableResultSettingsMap": {},
     "title": ""
    }
   },
   "outputs": [],
   "source": [
    "--DENSE_RANK() -->RANK WITHOUT GAPS\n",
    "\n",
    "SELECT \n",
    "  product_name, \n",
    "  quantity,\n",
    "  DENSE_RANK() OVER (ORDER BY quantity DESC) AS DENSE_RANK,\n",
    "  RANK() OVER (ORDER BY quantity DESC) AS RANK\n",
    "FROM order_details;\n"
   ]
  },
  {
   "cell_type": "code",
   "execution_count": 0,
   "metadata": {
    "application/vnd.databricks.v1+cell": {
     "cellMetadata": {
      "byteLimit": 2048000,
      "rowLimit": 10000
     },
     "inputWidgets": {},
     "nuid": "06599cdb-45bd-484b-b512-83ee661da3ed",
     "showTitle": false,
     "tableResultSettingsMap": {},
     "title": ""
    }
   },
   "outputs": [],
   "source": [
    "\n",
    "--  Real-Life Use Case: Label product popularity tiers in clean rank buckets\n",
    "\n",
    "SELECT \n",
    "product_name,\n",
    "SUM(quantity) AS TOTAL_QUANTITY,\n",
    "DENSE_RANK() OVER (ORDER BY SUM(quantity) DESC) AS POPULARITY_RANK\n",
    "FROM order_details\n",
    "GROUP BY 1\n",
    "     "
   ]
  },
  {
   "cell_type": "code",
   "execution_count": 0,
   "metadata": {
    "application/vnd.databricks.v1+cell": {
     "cellMetadata": {
      "byteLimit": 2048000,
      "rowLimit": 10000
     },
     "inputWidgets": {},
     "nuid": "df88fcff-bb32-41e0-907f-aa6403aee015",
     "showTitle": false,
     "tableResultSettingsMap": {},
     "title": ""
    }
   },
   "outputs": [],
   "source": [
    "--LAG() - COMPARE WITH PREVIOUS ROWS\n",
    "\n",
    "SELECT\n",
    "order_id,order_date,\n",
    "LAG(order_date) OVER(ORDER BY order_date) AS PREVIOUS_ORDER_DATE\n",
    " FROM ORDERS"
   ]
  },
  {
   "cell_type": "code",
   "execution_count": 0,
   "metadata": {
    "application/vnd.databricks.v1+cell": {
     "cellMetadata": {
      "byteLimit": 2048000,
      "rowLimit": 10000
     },
     "inputWidgets": {},
     "nuid": "d7b01ec5-e37f-41e7-b31e-f7c9450e477d",
     "showTitle": false,
     "tableResultSettingsMap": {},
     "title": ""
    }
   },
   "outputs": [],
   "source": [
    "-- Real-Life Use Case: Analyze customer's order trends (Did they buy more/less?)\n",
    "SELECT \n",
    "  c.first_name, \n",
    "  o.order_id, \n",
    "  od.quantity,\n",
    "  LAG(od.quantity) OVER (PARTITION BY c.customer_id ORDER BY o.order_date) AS previous_quantity\n",
    "FROM customers c\n",
    "JOIN orders o ON c.customer_id = o.customer_id\n",
    "JOIN order_details od ON o.order_id = od.order_id;"
   ]
  },
  {
   "cell_type": "code",
   "execution_count": 0,
   "metadata": {
    "application/vnd.databricks.v1+cell": {
     "cellMetadata": {
      "byteLimit": 2048000,
      "rowLimit": 10000
     },
     "inputWidgets": {},
     "nuid": "3a069a5c-8ff6-47de-953e-69e8b0fca2cc",
     "showTitle": false,
     "tableResultSettingsMap": {},
     "title": ""
    }
   },
   "outputs": [],
   "source": [
    "--LEAD() - COMPARE WITH NEXT ROWS\n",
    "\n",
    "SELECT\n",
    "order_id,order_date,\n",
    "LEAD(order_date) OVER(ORDER BY order_date) AS NEXT_ORDER_DATE\n",
    " FROM ORDERS\n",
    "     "
   ]
  },
  {
   "cell_type": "code",
   "execution_count": 0,
   "metadata": {
    "application/vnd.databricks.v1+cell": {
     "cellMetadata": {
      "byteLimit": 2048000,
      "rowLimit": 10000
     },
     "inputWidgets": {},
     "nuid": "48e6f9c2-f310-49d3-b696-fb2726c6bbdf",
     "showTitle": false,
     "tableResultSettingsMap": {},
     "title": ""
    }
   },
   "outputs": [],
   "source": [
    "--Real-Life Use Case: Predict what customers might buy next\n",
    "\n",
    "SELECT \n",
    "  c.first_name, \n",
    "  od.product_name,\n",
    "  LEAD(od.product_name) OVER (PARTITION BY c.customer_id ORDER BY o.order_date) AS possible_next_product\n",
    "FROM customers c\n",
    "JOIN orders o ON c.customer_id = o.customer_id\n",
    "JOIN order_details od ON o.order_id = od.order_id;"
   ]
  },
  {
   "cell_type": "code",
   "execution_count": 0,
   "metadata": {
    "application/vnd.databricks.v1+cell": {
     "cellMetadata": {
      "byteLimit": 2048000,
      "rowLimit": 10000
     },
     "inputWidgets": {},
     "nuid": "73d6cd92-4e34-4acb-b0a6-e1a587a45ef8",
     "showTitle": false,
     "tableResultSettingsMap": {},
     "title": ""
    }
   },
   "outputs": [],
   "source": [
    "--SUM() ---> RUNNING TOTAL OR Cummulative Sum \n",
    "\n",
    "select order_id,product_name,quantity,\n",
    "SUM(quantity) OVER(ORDER BY order_id) AS CUMMULATIVE_SUM\n",
    "from order_details"
   ]
  },
  {
   "cell_type": "code",
   "execution_count": 0,
   "metadata": {
    "application/vnd.databricks.v1+cell": {
     "cellMetadata": {
      "byteLimit": 2048000,
      "rowLimit": 10000
     },
     "inputWidgets": {},
     "nuid": "f82b8aa1-27a6-4efc-b598-a4b7675d5b55",
     "showTitle": false,
     "tableResultSettingsMap": {},
     "title": ""
    }
   },
   "outputs": [],
   "source": [
    "select first_name, department,salary,\n",
    "SUM(salary) OVER(order by emp_id) as RUNNING_TOTAL \n",
    "from employees"
   ]
  }
 ],
 "metadata": {
  "application/vnd.databricks.v1+notebook": {
   "computePreferences": null,
   "dashboards": [],
   "environmentMetadata": {
    "base_environment": "",
    "environment_version": "2"
   },
   "inputWidgetPreferences": null,
   "language": "sql",
   "notebookMetadata": {
    "pythonIndentUnit": 4
   },
   "notebookName": "Class-5-windows-function",
   "widgets": {}
  },
  "language_info": {
   "name": "sql"
  }
 },
 "nbformat": 4,
 "nbformat_minor": 0
}
