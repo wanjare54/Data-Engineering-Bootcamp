{
 "cells": [
  {
   "cell_type": "code",
   "execution_count": 0,
   "metadata": {
    "application/vnd.databricks.v1+cell": {
     "cellMetadata": {
      "byteLimit": 2048000,
      "rowLimit": 10000
     },
     "inputWidgets": {},
     "nuid": "cb955ae1-980e-44fd-9117-7d6f0f4c8967",
     "showTitle": false,
     "tableResultSettingsMap": {},
     "title": ""
    }
   },
   "outputs": [],
   "source": [
    "-- Find customers who placed orders above the average order amount.\n",
    "\n",
    "\n",
    "select distinct c.first_name, c.last_name , o.total_amount\n",
    "FROM customers c INNER JOIN orders o ON c.customer_id = o.customer_id WHERE o.total_amount >\n",
    "(\n",
    "SELECT AVG(total_amount) FROM orders\n",
    ")\n",
    "     "
   ]
  },
  {
   "cell_type": "code",
   "execution_count": 0,
   "metadata": {
    "application/vnd.databricks.v1+cell": {
     "cellMetadata": {
      "byteLimit": 2048000,
      "rowLimit": 10000
     },
     "inputWidgets": {},
     "nuid": "e7d49d59-423e-44bb-9d6b-c2afb65e00e4",
     "showTitle": false,
     "tableResultSettingsMap": {},
     "title": ""
    }
   },
   "outputs": [],
   "source": [
    "-- List all products that have been sold more than 5 times in total.\n",
    "SELECT\n",
    "od.product_name as PRODUCT_NAME,sum(od.quantity) AS TOTAL_SOLD\n",
    "FROM order_details od GROUP BY od.product_name HAVING SUM(od.quantity) >\n",
    "(SELECT 2)"
   ]
  },
  {
   "cell_type": "code",
   "execution_count": 0,
   "metadata": {
    "application/vnd.databricks.v1+cell": {
     "cellMetadata": {
      "byteLimit": 2048000,
      "rowLimit": 10000
     },
     "inputWidgets": {},
     "nuid": "75bf82b2-9d2d-4a94-b4d8-90a85f63d223",
     "showTitle": false,
     "tableResultSettingsMap": {},
     "title": ""
    }
   },
   "outputs": [],
   "source": [
    "--  List customers and their total quantity of products ordered.\n",
    "\n",
    "WITH customer_orders AS (\n",
    "    SELECT c.customer_id, c.first_name, SUM(od.quantity) AS total_quantity\n",
    "    FROM customers c\n",
    "    INNER JOIN orders o ON c.customer_id = o.customer_id\n",
    "    INNER JOIN order_details od ON o.order_id = od.order_id\n",
    "    GROUP BY c.customer_id, c.first_name\n",
    ")\n",
    "\n",
    "SELECT * FROM customer_orders WHERE total_quantity>3;"
   ]
  },
  {
   "cell_type": "code",
   "execution_count": 0,
   "metadata": {
    "application/vnd.databricks.v1+cell": {
     "cellMetadata": {
      "byteLimit": 2048000,
      "rowLimit": 10000
     },
     "inputWidgets": {},
     "nuid": "d8227062-8f98-416f-8657-2e70a55f793c",
     "showTitle": false,
     "tableResultSettingsMap": {},
     "title": ""
    }
   },
   "outputs": [],
   "source": [
    "%sql\n",
    "--Find products with their total sales revenue (price * quantity).\n",
    "\n",
    "\n",
    "\n",
    "WITH product_sales AS (\n",
    "    SELECT od.product_name, SUM(od.price_each * od.quantity) AS total_revenue\n",
    "    FROM order_details od \n",
    "    GROUP BY 1\n",
    ")\n",
    "\n",
    "SELECT * FROM product_sales WHERE total_revenue > 10000"
   ]
  },
  {
   "cell_type": "markdown",
   "metadata": {
    "application/vnd.databricks.v1+cell": {
     "cellMetadata": {},
     "inputWidgets": {},
     "nuid": "b7d613e5-c69e-407f-a5d3-e1dadcf55308",
     "showTitle": false,
     "tableResultSettingsMap": {},
     "title": ""
    }
   },
   "source": [
    "CASE Statements (SQL IF/ELSE)\n"
   ]
  },
  {
   "cell_type": "code",
   "execution_count": 0,
   "metadata": {
    "application/vnd.databricks.v1+cell": {
     "cellMetadata": {
      "byteLimit": 2048000,
      "rowLimit": 10000
     },
     "inputWidgets": {},
     "nuid": "18ac27a9-3245-41bd-b5ba-6c5da3cd2c02",
     "showTitle": false,
     "tableResultSettingsMap": {},
     "title": ""
    }
   },
   "outputs": [],
   "source": [
    "--Categorize each order as 'Small', 'Medium', 'Large'.\n",
    "\n",
    "\n",
    "SELECT o.order_id,o.total_amount, \n",
    "      CASE\n",
    "          WHEN o.total_amount<1000 THEN 'SMALL'\n",
    "          WHEN o.total_amount BETWEEN 1000 and 5000 THEN 'MEDIUM'\n",
    "          ELSE 'LARGE'\n",
    "      END AS ORDER_SIZE \n",
    "\n",
    "\n",
    "FROM orders o "
   ]
  },
  {
   "cell_type": "code",
   "execution_count": 0,
   "metadata": {
    "application/vnd.databricks.v1+cell": {
     "cellMetadata": {
      "byteLimit": 2048000,
      "rowLimit": 10000
     },
     "inputWidgets": {},
     "nuid": "1bea96db-b596-481b-8650-d5ed46c97076",
     "showTitle": false,
     "tableResultSettingsMap": {},
     "title": ""
    }
   },
   "outputs": [],
   "source": [
    "-- Categorize each order as 'Small', 'Medium', 'Large'.\n",
    "\n",
    "WITH categorized_orders AS (\n",
    "    SELECT o.order_id, o.total_amount, \n",
    "          CASE\n",
    "              WHEN o.total_amount < 1000 THEN 'SMALL'\n",
    "              WHEN o.total_amount BETWEEN 1000 AND 1500 THEN 'MEDIUM'\n",
    "              ELSE 'LARGE'\n",
    "          END AS ORDER_SIZE \n",
    "    FROM orders o\n",
    ")\n",
    "SELECT * \n",
    "FROM categorized_orders \n",
    "WHERE ORDER_SIZE = 'LARGE'"
   ]
  },
  {
   "cell_type": "code",
   "execution_count": 0,
   "metadata": {
    "application/vnd.databricks.v1+cell": {
     "cellMetadata": {
      "byteLimit": 2048000,
      "rowLimit": 10000
     },
     "inputWidgets": {},
     "nuid": "a3bc9621-53f3-43e8-a4b4-e8a4ee056adb",
     "showTitle": false,
     "tableResultSettingsMap": {},
     "title": ""
    }
   },
   "outputs": [],
   "source": [
    "--Label customers as 'New' or 'Returning' based on order count.\n",
    "\n",
    "\n",
    "SELECT c.first_name, COUNT(o.order_id) AS total_orders,\n",
    "       CASE\n",
    "           WHEN COUNT(o.order_id) = 1 THEN 'New'\n",
    "           WHEN COUNT(o.order_id) > 1 THEN 'Returning'\n",
    "           ELSE 'No Orders'\n",
    "       END AS customer_type\n",
    "FROM customers c\n",
    "LEFT JOIN orders o ON c.customer_id = o.customer_id\n",
    "GROUP BY c.customer_id, c.first_name;"
   ]
  },
  {
   "cell_type": "markdown",
   "metadata": {
    "application/vnd.databricks.v1+cell": {
     "cellMetadata": {},
     "inputWidgets": {},
     "nuid": "f39007ca-739a-46b4-a1d2-4c13b70cded3",
     "showTitle": false,
     "tableResultSettingsMap": {},
     "title": ""
    }
   },
   "source": [
    "FUNCTIONS (STRIING + DATE)"
   ]
  },
  {
   "cell_type": "code",
   "execution_count": 0,
   "metadata": {
    "application/vnd.databricks.v1+cell": {
     "cellMetadata": {
      "byteLimit": 2048000,
      "rowLimit": 10000
     },
     "inputWidgets": {},
     "nuid": "7ff0b4e8-0622-4695-b365-e0710585731c",
     "showTitle": false,
     "tableResultSettingsMap": {},
     "title": ""
    }
   },
   "outputs": [],
   "source": [
    "SELECT UPPER(c.first_name) AS FIRST_NAME_UPPERCASE from customers c \n"
   ]
  },
  {
   "cell_type": "code",
   "execution_count": 0,
   "metadata": {
    "application/vnd.databricks.v1+cell": {
     "cellMetadata": {
      "byteLimit": 2048000,
      "rowLimit": 10000
     },
     "inputWidgets": {},
     "nuid": "835e4d7e-0bb6-42e3-9662-9e3f8f221a88",
     "showTitle": false,
     "tableResultSettingsMap": {},
     "title": ""
    }
   },
   "outputs": [],
   "source": [
    "SELECT LOWER(c.first_name) AS FIRST_NAME_UPPERCASE from customers c"
   ]
  },
  {
   "cell_type": "code",
   "execution_count": 0,
   "metadata": {
    "application/vnd.databricks.v1+cell": {
     "cellMetadata": {
      "byteLimit": 2048000,
      "rowLimit": 10000
     },
     "inputWidgets": {},
     "nuid": "b532d6c2-9c7b-498a-ae24-8460500a0358",
     "showTitle": false,
     "tableResultSettingsMap": {},
     "title": ""
    }
   },
   "outputs": [],
   "source": [
    "SELECT UPPER(CONCAT(c.first_name,\" \",c.last_name)) AS FULL_NAME from customers c "
   ]
  },
  {
   "cell_type": "code",
   "execution_count": 0,
   "metadata": {
    "application/vnd.databricks.v1+cell": {
     "cellMetadata": {
      "byteLimit": 2048000,
      "rowLimit": 10000
     },
     "inputWidgets": {},
     "nuid": "47fdd42d-6e29-4535-a70e-9d46105e03c9",
     "showTitle": false,
     "tableResultSettingsMap": {},
     "title": ""
    }
   },
   "outputs": [],
   "source": [
    "-- Extract month of each order & group orders by month.\n",
    "SELECT MONTH(o.order_date) AS order_month, count(o.order_id) AS _total_orders \n",
    "FROM orders o \n",
    "GROUP BY 1\n",
    "ORDER BY 1"
   ]
  },
  {
   "cell_type": "code",
   "execution_count": 0,
   "metadata": {
    "application/vnd.databricks.v1+cell": {
     "cellMetadata": {
      "byteLimit": 2048000,
      "rowLimit": 10000
     },
     "inputWidgets": {},
     "nuid": "48f8291c-42b3-4dde-bbda-aa7b0753488e",
     "showTitle": false,
     "tableResultSettingsMap": {},
     "title": ""
    }
   },
   "outputs": [],
   "source": [
    "-- List each customer's name + their total spend + spending category.\n",
    "\n",
    "WITH customer_spend AS (\n",
    "    SELECT c.customer_id, CONCAT(c.first_name, ' ', c.last_name) AS full_name,\n",
    "           SUM(od.quantity * od.price_each) AS total_spent\n",
    "    FROM customers c\n",
    "    INNER JOIN orders o ON c.customer_id = o.customer_id\n",
    "    INNER JOIN order_details od ON o.order_id = od.order_id\n",
    "    GROUP BY c.customer_id, c.first_name, c.last_name\n",
    ")\n",
    "\n",
    "SELECT full_name, total_spent,\n",
    "       CASE\n",
    "           WHEN total_spent < 10000 THEN 'Bronze'\n",
    "           WHEN total_spent BETWEEN 10000 AND 2000 THEN 'Silver'\n",
    "           ELSE 'Gold'\n",
    "       END AS customer_tier\n",
    "FROM customer_spend;\n",
    "     "
   ]
  }
 ],
 "metadata": {
  "application/vnd.databricks.v1+notebook": {
   "computePreferences": null,
   "dashboards": [],
   "environmentMetadata": {
    "base_environment": "",
    "environment_version": "2"
   },
   "inputWidgetPreferences": null,
   "language": "sql",
   "notebookMetadata": {
    "pythonIndentUnit": 4
   },
   "notebookName": "class 4",
   "widgets": {}
  },
  "language_info": {
   "name": "sql"
  }
 },
 "nbformat": 4,
 "nbformat_minor": 0
}
