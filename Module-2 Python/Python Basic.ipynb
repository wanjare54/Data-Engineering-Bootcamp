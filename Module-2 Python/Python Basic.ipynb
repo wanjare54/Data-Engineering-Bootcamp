{
 "cells": [
  {
   "cell_type": "code",
   "execution_count": 0,
   "metadata": {
    "application/vnd.databricks.v1+cell": {
     "cellMetadata": {},
     "inputWidgets": {},
     "nuid": "ac65ee2c-baf3-4da6-b49c-2742377e9fc8",
     "showTitle": true,
     "tableResultSettingsMap": {},
     "title": "Class 1: Python — Your DE Power Tool"
    }
   },
   "outputs": [],
   "source": []
  },
  {
   "cell_type": "code",
   "execution_count": 0,
   "metadata": {
    "application/vnd.databricks.v1+cell": {
     "cellMetadata": {
      "byteLimit": 2048000,
      "rowLimit": 10000
     },
     "inputWidgets": {},
     "nuid": "66a4f01e-419c-451f-a3b7-e688973173bc",
     "showTitle": false,
     "tableResultSettingsMap": {},
     "title": ""
    }
   },
   "outputs": [],
   "source": [
    "a = '10'\n",
    "type(a)\n"
   ]
  },
  {
   "cell_type": "code",
   "execution_count": 0,
   "metadata": {
    "application/vnd.databricks.v1+cell": {
     "cellMetadata": {
      "byteLimit": 2048000,
      "rowLimit": 10000
     },
     "inputWidgets": {},
     "nuid": "246833c8-8a05-4204-a607-2289ff6dde97",
     "showTitle": false,
     "tableResultSettingsMap": {},
     "title": ""
    }
   },
   "outputs": [],
   "source": [
    "\n",
    "salary =25000.90\n",
    "type(salary)"
   ]
  },
  {
   "cell_type": "code",
   "execution_count": 0,
   "metadata": {
    "application/vnd.databricks.v1+cell": {
     "cellMetadata": {
      "byteLimit": 2048000,
      "rowLimit": 10000
     },
     "inputWidgets": {},
     "nuid": "0d571445-600c-4246-b850-26f4ab67bff7",
     "showTitle": false,
     "tableResultSettingsMap": {},
     "title": ""
    }
   },
   "outputs": [],
   "source": [
    "is_active=True\n",
    "type(is_active)"
   ]
  },
  {
   "cell_type": "markdown",
   "metadata": {
    "application/vnd.databricks.v1+cell": {
     "cellMetadata": {},
     "inputWidgets": {},
     "nuid": "de55a7e2-87b5-4964-9773-435b1a0125fa",
     "showTitle": false,
     "tableResultSettingsMap": {},
     "title": ""
    }
   },
   "source": [
    "'25' is different from 25"
   ]
  },
  {
   "cell_type": "code",
   "execution_count": 0,
   "metadata": {
    "application/vnd.databricks.v1+cell": {
     "cellMetadata": {
      "byteLimit": 2048000,
      "rowLimit": 10000
     },
     "inputWidgets": {},
     "nuid": "387fb92f-13ba-4608-9163-abdeb1e5732c",
     "showTitle": false,
     "tableResultSettingsMap": {},
     "title": ""
    }
   },
   "outputs": [],
   "source": [
    "\n",
    "print(\"My Name is Akash\")"
   ]
  },
  {
   "cell_type": "code",
   "execution_count": 0,
   "metadata": {
    "application/vnd.databricks.v1+cell": {
     "cellMetadata": {
      "byteLimit": 2048000,
      "rowLimit": 10000
     },
     "inputWidgets": {},
     "nuid": "6481925a-5090-4788-b016-f9b2ee087470",
     "showTitle": false,
     "tableResultSettingsMap": {},
     "title": ""
    }
   },
   "outputs": [],
   "source": [
    "\n",
    "#use of f-string formating\n",
    "name='Akash'\n",
    "\n",
    "print(f\"My Name is {name}\")"
   ]
  },
  {
   "cell_type": "code",
   "execution_count": 0,
   "metadata": {
    "application/vnd.databricks.v1+cell": {
     "cellMetadata": {
      "byteLimit": 2048000,
      "rowLimit": 10000
     },
     "inputWidgets": {},
     "nuid": "41159bd4-bad7-4c07-8b77-5db0e10c1a93",
     "showTitle": true,
     "tableResultSettingsMap": {},
     "title": "LISTS"
    }
   },
   "outputs": [],
   "source": [
    "employee=['Alice','Anurag','Bob',10000,20000,30000,30.333,True]\n",
    "print(employee)"
   ]
  },
  {
   "cell_type": "code",
   "execution_count": 0,
   "metadata": {
    "application/vnd.databricks.v1+cell": {
     "cellMetadata": {
      "byteLimit": 2048000,
      "rowLimit": 10000
     },
     "inputWidgets": {},
     "nuid": "fd578966-fc41-4331-9d1f-e806cb8801d7",
     "showTitle": false,
     "tableResultSettingsMap": {},
     "title": ""
    }
   },
   "outputs": [],
   "source": [
    "#Last Value of the List\n",
    "print(employee[-1])"
   ]
  },
  {
   "cell_type": "code",
   "execution_count": 0,
   "metadata": {
    "application/vnd.databricks.v1+cell": {
     "cellMetadata": {
      "byteLimit": 2048000,
      "rowLimit": 10000
     },
     "inputWidgets": {},
     "nuid": "9126c55f-5213-4ce6-b4d9-320556ef995d",
     "showTitle": false,
     "tableResultSettingsMap": {},
     "title": ""
    }
   },
   "outputs": [],
   "source": [
    "\n",
    "print(employee[1])"
   ]
  },
  {
   "cell_type": "code",
   "execution_count": 0,
   "metadata": {
    "application/vnd.databricks.v1+cell": {
     "cellMetadata": {
      "byteLimit": 2048000,
      "rowLimit": 10000
     },
     "inputWidgets": {},
     "nuid": "fe61cbcb-6e8b-4a43-a494-bdf8949ef6e5",
     "showTitle": false,
     "tableResultSettingsMap": {},
     "title": ""
    }
   },
   "outputs": [],
   "source": [
    "\n",
    "employee[0:-1:2]\n",
    "#employee[start:end:step]\n",
    "     "
   ]
  },
  {
   "cell_type": "code",
   "execution_count": 0,
   "metadata": {
    "application/vnd.databricks.v1+cell": {
     "cellMetadata": {
      "byteLimit": 2048000,
      "rowLimit": 10000
     },
     "inputWidgets": {},
     "nuid": "3f9e6860-dc2f-4315-a180-aa25978817e4",
     "showTitle": false,
     "tableResultSettingsMap": {},
     "title": ""
    }
   },
   "outputs": [],
   "source": [
    "employee[-2]=40000"
   ]
  },
  {
   "cell_type": "code",
   "execution_count": 0,
   "metadata": {
    "application/vnd.databricks.v1+cell": {
     "cellMetadata": {
      "byteLimit": 2048000,
      "rowLimit": 10000
     },
     "inputWidgets": {},
     "nuid": "e0fbef3f-3379-4cb4-bf9b-e7e2387d04c1",
     "showTitle": false,
     "tableResultSettingsMap": {},
     "title": ""
    }
   },
   "outputs": [],
   "source": [
    "\n",
    "print(employee)\n",
    "     \n",
    "\n",
    "type(employee)\n",
    "     "
   ]
  },
  {
   "cell_type": "code",
   "execution_count": 0,
   "metadata": {
    "application/vnd.databricks.v1+cell": {
     "cellMetadata": {
      "byteLimit": 2048000,
      "rowLimit": 10000
     },
     "inputWidgets": {},
     "nuid": "df591183-1e10-4565-8a0e-f48a8ac1a846",
     "showTitle": true,
     "tableResultSettingsMap": {},
     "title": "Dictionary"
    }
   },
   "outputs": [],
   "source": [
    "employee_info = {'name': 'Alice', 'role': 'Engineer', 'salary': 65000}\n",
    "     \n",
    "\n",
    "type(employee_info)"
   ]
  },
  {
   "cell_type": "code",
   "execution_count": 0,
   "metadata": {
    "application/vnd.databricks.v1+cell": {
     "cellMetadata": {},
     "inputWidgets": {},
     "nuid": "8dd57fe8-7c89-4f4b-b670-15566eb95ca7",
     "showTitle": false,
     "tableResultSettingsMap": {},
     "title": ""
    }
   },
   "outputs": [],
   "source": []
  },
  {
   "cell_type": "code",
   "execution_count": 0,
   "metadata": {
    "application/vnd.databricks.v1+cell": {
     "cellMetadata": {},
     "inputWidgets": {},
     "nuid": "f1c197d3-660f-4396-962a-4ae3bc4ebc36",
     "showTitle": false,
     "tableResultSettingsMap": {},
     "title": ""
    }
   },
   "outputs": [],
   "source": []
  },
  {
   "cell_type": "code",
   "execution_count": 0,
   "metadata": {
    "application/vnd.databricks.v1+cell": {
     "cellMetadata": {
      "byteLimit": 2048000,
      "rowLimit": 10000
     },
     "inputWidgets": {},
     "nuid": "9ba56003-d41e-4a3c-8e63-f43d5c7f577f",
     "showTitle": false,
     "tableResultSettingsMap": {},
     "title": ""
    }
   },
   "outputs": [],
   "source": [
    "\n",
    "print(employee_info['salary'])"
   ]
  },
  {
   "cell_type": "code",
   "execution_count": 0,
   "metadata": {
    "application/vnd.databricks.v1+cell": {
     "cellMetadata": {
      "byteLimit": 2048000,
      "rowLimit": 10000
     },
     "inputWidgets": {},
     "nuid": "c564a64f-66c3-4ec8-b880-0903f96cca7d",
     "showTitle": false,
     "tableResultSettingsMap": {},
     "title": ""
    }
   },
   "outputs": [],
   "source": [
    "print(f\"The Name of employee is {employee_info['name']} and Salary is {employee_info['salary']}\")"
   ]
  },
  {
   "cell_type": "code",
   "execution_count": 0,
   "metadata": {
    "application/vnd.databricks.v1+cell": {
     "cellMetadata": {
      "byteLimit": 2048000,
      "rowLimit": 10000
     },
     "inputWidgets": {},
     "nuid": "b2d46296-185d-4b69-b3bd-bc5d55804c75",
     "showTitle": false,
     "tableResultSettingsMap": {},
     "title": ""
    }
   },
   "outputs": [],
   "source": [
    "\n",
    "#Safe Access if key is not present\n",
    "employee_info.get('location','Not Avaliable')"
   ]
  },
  {
   "cell_type": "code",
   "execution_count": 0,
   "metadata": {
    "application/vnd.databricks.v1+cell": {
     "cellMetadata": {
      "byteLimit": 2048000,
      "rowLimit": 10000
     },
     "inputWidgets": {},
     "nuid": "74e61387-17dd-467d-90c0-1b92931f73c3",
     "showTitle": false,
     "tableResultSettingsMap": {},
     "title": ""
    }
   },
   "outputs": [],
   "source": [
    "#Mutable - Can be changed\n",
    "employee_info['salary']=70000\n",
    "employee_info['role']='Data Engineer'\n",
    "print(employee_info)"
   ]
  },
  {
   "cell_type": "markdown",
   "metadata": {
    "application/vnd.databricks.v1+cell": {
     "cellMetadata": {},
     "inputWidgets": {},
     "nuid": "5201b518-4a75-4137-953c-0d15b522641d",
     "showTitle": false,
     "tableResultSettingsMap": {},
     "title": ""
    }
   },
   "source": [
    "# ## ### **If-Else Statements**"
   ]
  },
  {
   "cell_type": "code",
   "execution_count": 0,
   "metadata": {
    "application/vnd.databricks.v1+cell": {
     "cellMetadata": {
      "byteLimit": 2048000,
      "rowLimit": 10000
     },
     "inputWidgets": {},
     "nuid": "a0f2ee2a-85b0-49a2-8ba4-4e8ae704c55f",
     "showTitle": true,
     "tableResultSettingsMap": {},
     "title": "Calculate Area of Triangle"
    }
   },
   "outputs": [],
   "source": [
    "# take input as l and w A=lw\n",
    "length=int(input(\"Please enter the length of rectangle :\"))\n",
    "width=int(input(\"Please enter the width of rectangle :\"))\n",
    "if length < 0 and width < 0 :\n",
    "    print (\"Length and Width of rectangle can't be negative\")\n",
    "else:\n",
    "    Area=length * width\n",
    "    print(Area, \"This is the Area of rectangle\") "
   ]
  },
  {
   "cell_type": "code",
   "execution_count": 0,
   "metadata": {
    "application/vnd.databricks.v1+cell": {
     "cellMetadata": {
      "byteLimit": 2048000,
      "rowLimit": 10000
     },
     "inputWidgets": {},
     "nuid": "59f73722-31c1-41e1-b9a2-e42bd1ac4743",
     "showTitle": true,
     "tableResultSettingsMap": {},
     "title": "Print Reverse Number"
    }
   },
   "outputs": [],
   "source": [
    "data=int(input(\"Enter three digit numbers\"))\n",
    "\n",
    "rem1=(data % 10)\n",
    "print(rem1)\n",
    "rem2=(data // 10)\n",
    "rem3=(rem2 % 10)\n",
    "print(rem3)\n",
    "rem3=(data // 10)\n",
    "data = (rem3 // 10)\n",
    "print(data)"
   ]
  },
  {
   "cell_type": "code",
   "execution_count": 0,
   "metadata": {
    "application/vnd.databricks.v1+cell": {
     "cellMetadata": {
      "byteLimit": 2048000,
      "rowLimit": 10000
     },
     "inputWidgets": {},
     "nuid": "88dcf540-196a-4b7c-ba3c-8ad52bf8d580",
     "showTitle": true,
     "tableResultSettingsMap": {},
     "title": "calculate circle of circumfernce"
    }
   },
   "outputs": [],
   "source": [
    "#calculate circle of circumfernce (c=2*3.14*r)\n",
    "\n",
    "r=int(input(\"Please enter the radius of circle :\"))\n",
    "      \n",
    "if r < 0:\n",
    "    print (\"cannot be negative\")\n",
    "else:  \n",
    "    c=2*3.14*r\n",
    "    print(c,\" :\")\n",
    "\n"
   ]
  },
  {
   "cell_type": "code",
   "execution_count": 0,
   "metadata": {
    "application/vnd.databricks.v1+cell": {
     "cellMetadata": {
      "byteLimit": 2048000,
      "rowLimit": 10000
     },
     "inputWidgets": {},
     "nuid": "ee1b0e43-13fb-494c-8b5f-e0b70bebdadb",
     "showTitle": false,
     "tableResultSettingsMap": {},
     "title": ""
    }
   },
   "outputs": [],
   "source": [
    "#Take radius of sphere as input as paramenter and calculate volume of sphere\n",
    "#Formula :- V=(4/3)pier * radius cube\n",
    "\n",
    "r=int(input(\"Please enter the radius of sphere :\"))\n",
    "if r < 0:\n",
    "    print(\"radius of sphere can't be negative\")\n",
    "else:\n",
    "    V=(4/3)*3.14*r**3\n",
    "    print(V, \": this is Volume of sphere\")"
   ]
  },
  {
   "cell_type": "code",
   "execution_count": 0,
   "metadata": {
    "application/vnd.databricks.v1+cell": {
     "cellMetadata": {
      "byteLimit": 2048000,
      "rowLimit": 10000
     },
     "inputWidgets": {},
     "nuid": "ffc8549b-6594-492f-8ee5-2cf6669ea966",
     "showTitle": true,
     "tableResultSettingsMap": {},
     "title": "program to check_whether_number_is_positive_negative_or_zero"
    }
   },
   "outputs": [],
   "source": [
    "#program to check_whether_number_is_positive_negative_or_zero\n",
    "\n",
    "data1=int(input(\"Please enter the number\"))\n",
    "\n",
    "if data1>0:\n",
    "    print(data1,\"This is positive number\")\n",
    "elif data1<0:\n",
    "    print(data1,\"This is negative number\")\n",
    "else:\n",
    "    print(data1,\"this is zero\")"
   ]
  },
  {
   "cell_type": "code",
   "execution_count": 0,
   "metadata": {
    "application/vnd.databricks.v1+cell": {
     "cellMetadata": {
      "byteLimit": 2048000,
      "rowLimit": 10000
     },
     "inputWidgets": {},
     "nuid": "caf75f7c-ba51-40e8-97b0-ff0c0219c1f9",
     "showTitle": true,
     "tableResultSettingsMap": {},
     "title": "Find Perimeter of Rectangle"
    }
   },
   "outputs": [],
   "source": [
    "#take input as lenght and width\n",
    "\n",
    "L=int(input(\"Please enter lentgh \"))\n",
    "W=int(input(\"Please enter the width :\"))\n",
    "\n",
    "Rectangle= 2 * (L+ W)\n",
    "\n",
    "print(Rectangle, \"This is Perimeter of rectangle\")"
   ]
  },
  {
   "cell_type": "code",
   "execution_count": 0,
   "metadata": {
    "application/vnd.databricks.v1+cell": {
     "cellMetadata": {
      "byteLimit": 2048000,
      "rowLimit": 10000
     },
     "inputWidgets": {},
     "nuid": "ae8ed9c6-8bde-4779-be83-22021d542e28",
     "showTitle": true,
     "tableResultSettingsMap": {},
     "title": "Find The Max between thre numbers"
    }
   },
   "outputs": [],
   "source": [
    "data1=int(input(\"please enter first number \"))\n",
    "data2=int(input(\"please enter second number \"))\n",
    "data3=int(input(\"Please enter Thirs number \"))\n",
    "if data1>data2 and data1>data3:\n",
    "    print(data1,\"this is max\")\n",
    "elif data2>data1 and data2>data3:\n",
    "    print(data2,\"this is max\")\n",
    "else:\n",
    "    print(data3,\"this is max\")"
   ]
  },
  {
   "cell_type": "code",
   "execution_count": 0,
   "metadata": {
    "application/vnd.databricks.v1+cell": {
     "cellMetadata": {
      "byteLimit": 2048000,
      "rowLimit": 10000
     },
     "inputWidgets": {},
     "nuid": "b1af4a95-4823-44da-9a99-50fabb44bead",
     "showTitle": true,
     "tableResultSettingsMap": {},
     "title": "Grade System"
    }
   },
   "outputs": [],
   "source": [
    "marks =int(input(\"Enter your marks: \"))\n",
    "if marks >= 80:\n",
    "    print(\"grade A\")\n",
    "elif marks >= 60:\n",
    "    print(\"grade B\")\n",
    "else:\n",
    "    print(\"Fail\")"
   ]
  }
 ],
 "metadata": {
  "application/vnd.databricks.v1+notebook": {
   "computePreferences": null,
   "dashboards": [],
   "environmentMetadata": {
    "base_environment": "",
    "environment_version": "2"
   },
   "inputWidgetPreferences": null,
   "language": "python",
   "notebookMetadata": {
    "pythonIndentUnit": 4
   },
   "notebookName": "Python Basic",
   "widgets": {}
  },
  "language_info": {
   "name": "python"
  }
 },
 "nbformat": 4,
 "nbformat_minor": 0
}
